{
 "metadata": {
  "name": ""
 },
 "nbformat": 3,
 "nbformat_minor": 0,
 "worksheets": [
  {
   "cells": [
    {
     "cell_type": "code",
     "collapsed": false,
     "input": [
      "%matplotlib inline\n",
      "import matplotlib\n",
      "import matplotlib.pyplot as plt\n",
      "import matplotlib.gridspec as gridspec\n",
      "import numpy as np\n",
      "import matplotlib.cm as cm\n",
      "from matplotlylib import fig_to_plotly\n",
      "from matplotlylib import PlotlyRenderer\n",
      "from mplexporter import Exporter\n",
      "import plotly\n",
      "username = 'IPython.Demo'\n",
      "api_key = '1fw3zw2o13'"
     ],
     "language": "python",
     "metadata": {},
     "outputs": [],
     "prompt_number": 1
    },
    {
     "cell_type": "code",
     "collapsed": false,
     "input": [
      "fig = plt.figure()\n",
      "ax = fig.add_subplot(111)\n",
      "left = [1, 3, 5, 8, 20]\n",
      "height = [5, 10, 4, 2, 1]\n",
      "width = 2\n",
      "ax.bar(left, height, width=width)"
     ],
     "language": "python",
     "metadata": {},
     "outputs": [
      {
       "metadata": {},
       "output_type": "pyout",
       "prompt_number": 2,
       "text": [
        "<Container object of 5 artists>"
       ]
      },
      {
       "metadata": {},
       "output_type": "display_data",
       "png": "[encoded data removed]",
       "text": [
        "<matplotlib.figure.Figure at 0x1036f8690>"
       ]
      }
     ],
     "prompt_number": 2
    },
    {
     "cell_type": "code",
     "collapsed": false,
     "input": [
      "fig_to_plotly(fig, username, api_key, notebook=True)"
     ],
     "language": "python",
     "metadata": {},
     "outputs": [
      {
       "html": [
        "<iframe height=\"550\" id=\"igraph\" scrolling=\"no\" seamless=\"seamless\" src=\"https://plot.ly/~IPython.Demo/1707\" width=\"100%\"></iframe>"
       ],
       "metadata": {},
       "output_type": "pyout",
       "prompt_number": 3,
       "text": [
        "<IPython.core.display.HTML at 0x103778650>"
       ]
      }
     ],
     "prompt_number": 3
    },
    {
     "cell_type": "code",
     "collapsed": false,
     "input": [
      "fig = plt.figure()\n",
      "ax = fig.add_subplot(111)\n",
      "x = np.random.normal(0,1,1000)\n",
      "numBins = 50\n",
      "ax.hist(x,numBins,color='green',alpha=0.8)"
     ],
     "language": "python",
     "metadata": {},
     "outputs": [
      {
       "metadata": {},
       "output_type": "pyout",
       "prompt_number": 4,
       "text": [
        "(array([  1.,   0.,   0.,   0.,   1.,   0.,   0.,   3.,   7.,   4.,   5.,\n",
        "        14.,   8.,  13.,  13.,  17.,  24.,  38.,  32.,  33.,  41.,  43.,\n",
        "        52.,  56.,  55.,  49.,  59.,  44.,  49.,  45.,  35.,  42.,  35.,\n",
        "        34.,  25.,  26.,  24.,  13.,  13.,  13.,   8.,   8.,   3.,   6.,\n",
        "         3.,   2.,   1.,   1.,   1.,   1.]),\n",
        " array([-3.45137116, -3.31912718, -3.1868832 , -3.05463922, -2.92239524,\n",
        "       -2.79015126, -2.65790728, -2.5256633 , -2.39341932, -2.26117534,\n",
        "       -2.12893136, -1.99668738, -1.8644434 , -1.73219942, -1.59995544,\n",
        "       -1.46771146, -1.33546748, -1.2032235 , -1.07097952, -0.93873554,\n",
        "       -0.80649156, -0.67424758, -0.5420036 , -0.40975962, -0.27751564,\n",
        "       -0.14527166, -0.01302768,  0.1192163 ,  0.25146028,  0.38370426,\n",
        "        0.51594824,  0.64819222,  0.7804362 ,  0.91268018,  1.04492416,\n",
        "        1.17716814,  1.30941212,  1.4416561 ,  1.57390008,  1.70614406,\n",
        "        1.83838804,  1.97063202,  2.102876  ,  2.23511998,  2.36736396,\n",
        "        2.49960794,  2.63185192,  2.7640959 ,  2.89633988,  3.02858386,\n",
        "        3.16082784]),\n",
        " <a list of 50 Patch objects>)"
       ]
      },
      {
       "metadata": {},
       "output_type": "display_data",
       "png": "[encoded data removed]",
       "text": [
        "<matplotlib.figure.Figure at 0x1037a96d0>"
       ]
      }
     ],
     "prompt_number": 4
    },
    {
     "cell_type": "code",
     "collapsed": false,
     "input": [
      "fig_to_plotly(fig, username, api_key, notebook=True)"
     ],
     "language": "python",
     "metadata": {},
     "outputs": [
      {
       "html": [
        "<iframe height=\"550\" id=\"igraph\" scrolling=\"no\" seamless=\"seamless\" src=\"https://plot.ly/~IPython.Demo/1708\" width=\"100%\"></iframe>"
       ],
       "metadata": {},
       "output_type": "pyout",
       "prompt_number": 5,
       "text": [
        "<IPython.core.display.HTML at 0x103829d90>"
       ]
      }
     ],
     "prompt_number": 5
    },
    {
     "cell_type": "code",
     "collapsed": false,
     "input": [
      "# Example data\n",
      "people = ('Tom', 'Dick', 'Harry', 'Slim', 'Jim')\n",
      "y_pos = np.arange(len(people))\n",
      "performance = 3 + 10 * np.random.rand(len(people))\n",
      "error = np.random.rand(len(people))\n",
      "\n",
      "fig = plt.figure()\n",
      "ax1 = fig.add_subplot(211)\n",
      "ax1.barh(y_pos, performance, align='center', alpha=0.4) # xerr=error\n",
      "ax1.set_yticks(y_pos, people)\n",
      "ax1.set_xlabel('Performance')\n",
      "ax1.set_title('How fast do you want to go today?')\n",
      "\n",
      "ax2 = fig.add_subplot(212)\n",
      "left = [1, 3, 5, 8, 20]\n",
      "height = [5, 10, 4, 2, 1]\n",
      "width = 2\n",
      "ax2.bar(left, height, width=width)"
     ],
     "language": "python",
     "metadata": {},
     "outputs": [
      {
       "metadata": {},
       "output_type": "pyout",
       "prompt_number": 2,
       "text": [
        "<Container object of 5 artists>"
       ]
      },
      {
       "metadata": {},
       "output_type": "display_data",
       "png": "[encoded data removed]",
       "text": [
        "<matplotlib.figure.Figure at 0x10f37d690>"
       ]
      }
     ],
     "prompt_number": 2
    },
    {
     "cell_type": "code",
     "collapsed": false,
     "input": [
      "renderer = PlotlyRenderer()\n",
      "exporter = Exporter(renderer)\n",
      "exporter.run(fig)"
     ],
     "language": "python",
     "metadata": {},
     "outputs": [
      {
       "output_type": "stream",
       "stream": "stdout",
       "text": [
        "(0.0, 0.0, 1.0, 0.4)\n",
        "#0000FF\n",
        "0.4\n",
        "(0.0, 0.0, 1.0, 0.4)\n",
        "#0000FF\n",
        "0.4\n",
        "(0.0, 0.0, 1.0, 0.4)\n",
        "#0000FF\n",
        "0.4\n",
        "(0.0, 0.0, 1.0, 0.4)\n",
        "#0000FF\n",
        "0.4\n",
        "(0.0, 0.0, 1.0, 0.4)\n",
        "#0000FF\n",
        "0.4\n",
        "(0.0, 0.0, 1.0, 1.0)\n",
        "#0000FF\n",
        "1\n",
        "(0.0, 0.0, 1.0, 1.0)\n",
        "#0000FF\n",
        "1\n",
        "(0.0, 0.0, 1.0, 1.0)\n",
        "#0000FF\n",
        "1\n",
        "(0.0, 0.0, 1.0, 1.0)\n",
        "#0000FF\n",
        "1\n",
        "(0.0, 0.0, 1.0, 1.0)\n",
        "#0000FF\n",
        "1\n"
       ]
      }
     ],
     "prompt_number": 3
    },
    {
     "cell_type": "code",
     "collapsed": false,
     "input": [
      "renderer.data"
     ],
     "language": "python",
     "metadata": {},
     "outputs": [
      {
       "metadata": {},
       "output_type": "pyout",
       "prompt_number": 4,
       "text": [
        "[{'bardir': 'h',\n",
        "  'marker': {'color': '#0000FF', 'line': {'width': 1.0}},\n",
        "  'opacity': 0.4,\n",
        "  'type': 'bar',\n",
        "  'x': [0.0, 1.0, 2.0, 3.0, 4.0],\n",
        "  'y': [7.0045146888105894,\n",
        "   3.4745682003227136,\n",
        "   10.503692072973529,\n",
        "   11.27037861547708,\n",
        "   10.437215702726865]},\n",
        " {'bardir': 'v',\n",
        "  'marker': {'color': '#0000FF', 'line': {'width': 1.0}},\n",
        "  'opacity': 1,\n",
        "  'type': 'bar',\n",
        "  'x': [2.0, 4.0, 6.0, 9.0, 21.0],\n",
        "  'xaxis': 'x2',\n",
        "  'y': [5.0, 10.0, 4.0, 2.0, 1.0],\n",
        "  'yaxis': 'y2'}]"
       ]
      }
     ],
     "prompt_number": 4
    },
    {
     "cell_type": "code",
     "collapsed": false,
     "input": [
      "py = plotly.plotly(username, api_key)\n",
      "py.iplot(renderer.data, layout=renderer.layout)"
     ],
     "language": "python",
     "metadata": {},
     "outputs": [
      {
       "html": [
        "<iframe height=\"550\" id=\"igraph\" scrolling=\"no\" seamless=\"seamless\" src=\"https://plot.ly/~IPython.Demo/1711\" width=\"100%\"></iframe>"
       ],
       "metadata": {},
       "output_type": "pyout",
       "prompt_number": 5,
       "text": [
        "<IPython.core.display.HTML at 0x10f3dd090>"
       ]
      }
     ],
     "prompt_number": 5
    },
    {
     "cell_type": "code",
     "collapsed": false,
     "input": [
      "# Example data\n",
      "people = ('Tom', 'Dick', 'Harry', 'Slim', 'Jim')\n",
      "y_pos = np.arange(1, len(people) + 1)\n",
      "performance = 3 + 10 * np.random.rand(len(people))\n",
      "error = np.random.rand(len(people))\n",
      "\n",
      "fig = plt.figure()\n",
      "ax = fig.add_subplot(111)\n",
      "ax.barh(y_pos, performance, align='center', alpha=0.3) # xerr=error\n",
      "ax.set_yticks(y_pos, people)\n",
      "ax.set_title('How many bar charts can you stick on one plot?')\n",
      "left = [1, 3, 5, 8, 20]\n",
      "height = [5, 10, 4, 2, 1]\n",
      "width = 2\n",
      "ax.bar(left, height, width=width, color='g', alpha=0.3)\n",
      "left = [2, 6, 12, 14, 16, 18, 22]\n",
      "height = [10, 3, 2, 1, 5, 2, 8]\n",
      "width = 2\n",
      "ax.bar(left, height, width=width, color='r', alpha=0.3)"
     ],
     "language": "python",
     "metadata": {},
     "outputs": [
      {
       "metadata": {},
       "output_type": "pyout",
       "prompt_number": 2,
       "text": [
        "<Container object of 7 artists>"
       ]
      },
      {
       "metadata": {},
       "output_type": "display_data",
       "png": "[encoded data removed]",
       "text": [
        "<matplotlib.figure.Figure at 0x10dccedd0>"
       ]
      }
     ],
     "prompt_number": 2
    },
    {
     "cell_type": "code",
     "collapsed": false,
     "input": [
      "fig_to_plotly(fig, username, api_key, notebook=True)"
     ],
     "language": "python",
     "metadata": {},
     "outputs": [
      {
       "html": [
        "<iframe height=\"550\" id=\"igraph\" scrolling=\"no\" seamless=\"seamless\" src=\"https://plot.ly/~IPython.Demo/1716\" width=\"100%\"></iframe>"
       ],
       "metadata": {},
       "output_type": "pyout",
       "prompt_number": 3,
       "text": [
        "<IPython.core.display.HTML at 0x10dcd62d0>"
       ]
      }
     ],
     "prompt_number": 3
    }
   ],
   "metadata": {}
  }
 ]
}