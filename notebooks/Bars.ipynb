{
 "metadata": {
  "name": ""
 },
 "nbformat": 3,
 "nbformat_minor": 0,
 "worksheets": [
  {
   "cells": [
    {
     "cell_type": "code",
     "collapsed": false,
     "input": [
      "%matplotlib inline\n",
      "import matplotlib\n",
      "import matplotlib.pyplot as plt\n",
      "import matplotlib.gridspec as gridspec\n",
      "import numpy as np\n",
      "import matplotlib.cm as cm\n",
      "from matplotlylib import fig_to_plotly\n",
      "from matplotlylib import PlotlyRenderer\n",
      "from mplexporter import Exporter\n",
      "import plotly\n",
      "username = 'IPython.Demo'\n",
      "api_key = '1fw3zw2o13'"
     ],
     "language": "python",
     "metadata": {},
     "outputs": [],
     "prompt_number": 1
    },
    {
     "cell_type": "code",
     "collapsed": false,
     "input": [
      "fig = plt.figure()\n",
      "ax = fig.add_subplot(111)\n",
      "left = [1, 3, 5, 8, 20]\n",
      "height = [5, 10, 4, 2, 1]\n",
      "width = 2\n",
      "ax.bar(left, height, width=width)"
     ],
     "language": "python",
     "metadata": {},
     "outputs": [
      {
       "metadata": {},
       "output_type": "pyout",
       "prompt_number": 2,
       "text": [
        "<Container object of 5 artists>"
       ]
      },
      {
       "metadata": {},
       "output_type": "display_data",
       "png": "[encoded data removed]",
       "text": [
        "<matplotlib.figure.Figure at 0x107f2b550>"
       ]
      }
     ],
     "prompt_number": 2
    },
    {
     "cell_type": "code",
     "collapsed": false,
     "input": [
      "fig_to_plotly(fig, username, api_key, notebook=True)"
     ],
     "language": "python",
     "metadata": {},
     "outputs": [
      {
       "html": [
        "<iframe height=\"550\" id=\"igraph\" scrolling=\"no\" seamless=\"seamless\" src=\"https://plot.ly/~IPython.Demo/1629\" width=\"100%\"></iframe>"
       ],
       "metadata": {},
       "output_type": "pyout",
       "prompt_number": 3,
       "text": [
        "<IPython.core.display.HTML at 0x107fd70d0>"
       ]
      }
     ],
     "prompt_number": 3
    },
    {
     "cell_type": "code",
     "collapsed": false,
     "input": [
      "fig = plt.figure()\n",
      "ax = fig.add_subplot(111)\n",
      "x = np.random.normal(0,1,1000)\n",
      "numBins = 50\n",
      "ax.hist(x,numBins,color='green',alpha=0.8)"
     ],
     "language": "python",
     "metadata": {},
     "outputs": [
      {
       "metadata": {},
       "output_type": "pyout",
       "prompt_number": 4,
       "text": [
        "(array([  1.,   0.,   0.,   0.,   0.,   0.,   1.,   0.,   0.,   2.,   3.,\n",
        "         3.,  10.,   6.,  12.,  12.,  16.,  24.,  28.,  31.,  31.,  46.,\n",
        "        48.,  41.,  52.,  57.,  69.,  58.,  56.,  46.,  60.,  38.,  43.,\n",
        "        42.,  38.,  20.,  25.,  20.,  19.,  12.,   6.,   3.,   6.,   6.,\n",
        "         3.,   3.,   0.,   0.,   1.,   2.]),\n",
        " array([-3.85627861, -3.71179847, -3.56731833, -3.42283819, -3.27835805,\n",
        "       -3.13387791, -2.98939777, -2.84491763, -2.70043749, -2.55595735,\n",
        "       -2.41147721, -2.26699707, -2.12251693, -1.97803679, -1.83355665,\n",
        "       -1.68907651, -1.54459637, -1.40011623, -1.25563609, -1.11115595,\n",
        "       -0.96667581, -0.82219567, -0.67771553, -0.53323539, -0.38875525,\n",
        "       -0.24427511, -0.09979497,  0.04468517,  0.18916531,  0.33364545,\n",
        "        0.47812559,  0.62260573,  0.76708587,  0.91156601,  1.05604615,\n",
        "        1.20052629,  1.34500643,  1.48948657,  1.63396671,  1.77844685,\n",
        "        1.92292699,  2.06740713,  2.21188727,  2.35636741,  2.50084755,\n",
        "        2.64532769,  2.78980783,  2.93428797,  3.07876811,  3.22324825,\n",
        "        3.36772839]),\n",
        " <a list of 50 Patch objects>)"
       ]
      },
      {
       "metadata": {},
       "output_type": "display_data",
       "png": "[encoded data removed]",
       "text": [
        "<matplotlib.figure.Figure at 0x107fdd110>"
       ]
      }
     ],
     "prompt_number": 4
    },
    {
     "cell_type": "code",
     "collapsed": false,
     "input": [
      "fig_to_plotly(fig, username, api_key, notebook=True)"
     ],
     "language": "python",
     "metadata": {},
     "outputs": [
      {
       "html": [
        "<iframe height=\"550\" id=\"igraph\" scrolling=\"no\" seamless=\"seamless\" src=\"https://plot.ly/~IPython.Demo/1630\" width=\"100%\"></iframe>"
       ],
       "metadata": {},
       "output_type": "pyout",
       "prompt_number": 5,
       "text": [
        "<IPython.core.display.HTML at 0x10805c250>"
       ]
      }
     ],
     "prompt_number": 5
    },
    {
     "cell_type": "code",
     "collapsed": false,
     "input": [],
     "language": "python",
     "metadata": {},
     "outputs": []
    }
   ],
   "metadata": {}
  }
 ]
}