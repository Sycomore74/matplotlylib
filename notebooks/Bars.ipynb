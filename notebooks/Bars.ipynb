{
 "metadata": {
  "name": ""
 },
 "nbformat": 3,
 "nbformat_minor": 0,
 "worksheets": [
  {
   "cells": [
    {
     "cell_type": "code",
     "collapsed": false,
     "input": [
      "%matplotlib inline\n",
      "import matplotlib\n",
      "import matplotlib.pyplot as plt\n",
      "import matplotlib.gridspec as gridspec\n",
      "import numpy as np\n",
      "import matplotlib.cm as cm\n",
      "from matplotlylib import fig_to_plotly\n",
      "from matplotlylib import PlotlyRenderer\n",
      "from mplexporter import Exporter\n",
      "import plotly\n",
      "username = 'IPython.Demo'\n",
      "api_key = '1fw3zw2o13'"
     ],
     "language": "python",
     "metadata": {},
     "outputs": [],
     "prompt_number": 6
    },
    {
     "cell_type": "code",
     "collapsed": false,
     "input": [
      "fig = plt.figure()\n",
      "ax = fig.add_subplot(111)\n",
      "left = [1, 3, 5, 8, 20]\n",
      "height = [5, 10, 4, 2, 1]\n",
      "width = 2\n",
      "ax.bar(left, height, width=width)"
     ],
     "language": "python",
     "metadata": {},
     "outputs": [
      {
       "metadata": {},
       "output_type": "pyout",
       "prompt_number": 7,
       "text": [
        "<Container object of 5 artists>"
       ]
      },
      {
       "metadata": {},
       "output_type": "display_data",
       "png": "[encoded data removed]",
       "text": [
        "<matplotlib.figure.Figure at 0x112ea5c10>"
       ]
      }
     ],
     "prompt_number": 7
    },
    {
     "cell_type": "code",
     "collapsed": false,
     "input": [
      "fig_to_plotly(fig, username, api_key, notebook=True)"
     ],
     "language": "python",
     "metadata": {},
     "outputs": [
      {
       "html": [
        "<iframe height=\"550\" id=\"igraph\" scrolling=\"no\" seamless=\"seamless\" src=\"https://plot.ly/~IPython.Demo/1638\" width=\"100%\"></iframe>"
       ],
       "metadata": {},
       "output_type": "pyout",
       "prompt_number": 8,
       "text": [
        "<IPython.core.display.HTML at 0x112eed910>"
       ]
      }
     ],
     "prompt_number": 8
    },
    {
     "cell_type": "code",
     "collapsed": false,
     "input": [
      "fig = plt.figure()\n",
      "ax = fig.add_subplot(111)\n",
      "x = np.random.normal(0,1,1000)\n",
      "numBins = 50\n",
      "ax.hist(x,numBins,color='green',alpha=0.8)"
     ],
     "language": "python",
     "metadata": {},
     "outputs": [
      {
       "metadata": {},
       "output_type": "pyout",
       "prompt_number": 9,
       "text": [
        "(array([  1.,   0.,   0.,   1.,   1.,   8.,   2.,   6.,   7.,   5.,   4.,\n",
        "        11.,   9.,  20.,  22.,  26.,  30.,  31.,  48.,  30.,  32.,  34.,\n",
        "        45.,  40.,  50.,  51.,  46.,  41.,  50.,  40.,  49.,  31.,  47.,\n",
        "        37.,  27.,  28.,  16.,  16.,   9.,  11.,  11.,   8.,   4.,   3.,\n",
        "         5.,   0.,   1.,   3.,   1.,   2.]),\n",
        " array([-3.15091946, -3.02833049, -2.90574152, -2.78315255, -2.66056359,\n",
        "       -2.53797462, -2.41538565, -2.29279669, -2.17020772, -2.04761875,\n",
        "       -1.92502979, -1.80244082, -1.67985185, -1.55726289, -1.43467392,\n",
        "       -1.31208495, -1.18949598, -1.06690702, -0.94431805, -0.82172908,\n",
        "       -0.69914012, -0.57655115, -0.45396218, -0.33137322, -0.20878425,\n",
        "       -0.08619528,  0.03639368,  0.15898265,  0.28157162,  0.40416059,\n",
        "        0.52674955,  0.64933852,  0.77192749,  0.89451645,  1.01710542,\n",
        "        1.13969439,  1.26228335,  1.38487232,  1.50746129,  1.63005025,\n",
        "        1.75263922,  1.87522819,  1.99781716,  2.12040612,  2.24299509,\n",
        "        2.36558406,  2.48817302,  2.61076199,  2.73335096,  2.85593992,\n",
        "        2.97852889]),\n",
        " <a list of 50 Patch objects>)"
       ]
      },
      {
       "metadata": {},
       "output_type": "display_data",
       "png": "[encoded data removed]",
       "text": [
        "<matplotlib.figure.Figure at 0x112f07fd0>"
       ]
      }
     ],
     "prompt_number": 9
    },
    {
     "cell_type": "code",
     "collapsed": false,
     "input": [
      "fig_to_plotly(fig, username, api_key, notebook=True)"
     ],
     "language": "python",
     "metadata": {},
     "outputs": [
      {
       "html": [
        "<iframe height=\"550\" id=\"igraph\" scrolling=\"no\" seamless=\"seamless\" src=\"https://plot.ly/~IPython.Demo/1639\" width=\"100%\"></iframe>"
       ],
       "metadata": {},
       "output_type": "pyout",
       "prompt_number": 10,
       "text": [
        "<IPython.core.display.HTML at 0x112ea82d0>"
       ]
      }
     ],
     "prompt_number": 10
    },
    {
     "cell_type": "code",
     "collapsed": false,
     "input": [],
     "language": "python",
     "metadata": {},
     "outputs": []
    }
   ],
   "metadata": {}
  }
 ]
}