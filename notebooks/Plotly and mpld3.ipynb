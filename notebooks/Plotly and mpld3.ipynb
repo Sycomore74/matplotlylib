{
 "metadata": {
  "name": ""
 },
 "nbformat": 3,
 "nbformat_minor": 0,
 "worksheets": [
  {
   "cells": [
    {
     "cell_type": "heading",
     "level": 1,
     "metadata": {},
     "source": [
      "Plotly, matplotlib, and mplexporter."
     ]
    },
    {
     "cell_type": "heading",
     "level": 3,
     "metadata": {},
     "source": [
      "Intro:"
     ]
    },
    {
     "cell_type": "markdown",
     "metadata": {},
     "source": [
      "The mplexporter package is a recent development as a part of the [mpld3 project](http://mpld3.github.io/). The goal of mpld3 is to expand python's matplotlib use to the browser. While it was constructed with D3js in mind, by separating the matplotlib exporting and the actual graphic rendering, many renderers can now leverage the parsed matplotlib information. This makes the matplotlib-to-browser project easier for everyone. Nice.\n",
      "\n",
      "Now, enter Plotly. Like keeping your data around? Want to share your plots and/or data online? We allow users to easily create and share interactive, publication-quality visualizations, right in a web browser. While Plotly's [Python API](https://plot.ly/api/python) gives users access to plotly directly, users may already have high-quality plots that they want to get online and share. Standing on the shoulders of the mplexporter, plotly is developing matplotlylib, a package that converts mpl figures to plotly figures with a simple call to `fig_to_plotly`. This function creates a JSON dictionary and sends it to be rendered on plotly with an option to put the resulting figure back into an IPython notebook.\n",
      "\n",
      "If your data are important to you, they're important to us, and we'll help you share them with others. \n",
      "\n",
      "For more infomation on using Plotly, you can check out our other [IPython notebooks](http://nbviewer.ipython.org/github/plotly/IPython-plotly/tree/master/). Or, just take a look at some practical uses from [Wired Science](http://www.wired.com/wiredscience/2014/02/much-real-olympic-gold-medal-cost/ \"How Much Would a Real Olympic Gold Medal Cost?\") and [The Washinton Post](http://www.washingtonpost.com/blogs/wonkblog/wp/2013/06/14/do-low-taxes-on-the-rich-leave-the-middle-class-with-lower-wages/ \"Do low taxes on the rich leave the middle-class with lower wages?\").\n",
      "\n",
      "The most current version of matplotlylib can be found in the [mpld3/matplotlylib](https://github.com/mpld3/matplotlylib) repo."
     ]
    },
    {
     "cell_type": "heading",
     "level": 3,
     "metadata": {},
     "source": [
      "Imports:"
     ]
    },
    {
     "cell_type": "markdown",
     "metadata": {},
     "source": [
      "Let's start by calling the IPython 'magic' function for matplotlib so that plots show up inline. Next, we'll import all of the matplotlib tools necessary for creating the figures in this notebook."
     ]
    },
    {
     "cell_type": "code",
     "collapsed": false,
     "input": [
      "%matplotlib inline\n",
      "import matplotlib.pyplot as plt # so we don't have to look at mpl's backend\n",
      "import matplotlib.gridspec as gridspec # for subplots\n",
      "import matplotlib.cm as cm # for fun-with-colors\n",
      "import numpy as np"
     ],
     "language": "python",
     "metadata": {},
     "outputs": [],
     "prompt_number": 1
    },
    {
     "cell_type": "markdown",
     "metadata": {},
     "source": [
      "The only import required to render figures in plotly is the `fig_to_plotly` function. We'll also fill in our creds here so that they're accessible later when we actually make the `fig_to_plotly(fig, username, api_key)` call. You can use the `mpld3` username for now, or switch to your own Plotly username and api_key. Don't have a username? There's no better time than the [present](https://plot.ly/ \"plotly population +1?\")."
     ]
    },
    {
     "cell_type": "code",
     "collapsed": false,
     "input": [
      "from matplotlylib import fig_to_plotly\n",
      "username = 'IPython.Demo'\n",
      "api_key = '1fw3zw2o13'"
     ],
     "language": "python",
     "metadata": {},
     "outputs": [],
     "prompt_number": 2
    },
    {
     "cell_type": "heading",
     "level": 3,
     "metadata": {},
     "source": [
      "Line Plots:"
     ]
    },
    {
     "cell_type": "markdown",
     "metadata": {},
     "source": [
      "Here we instantiate a matplotlib figure object and fill it with stuff we want to plot! IPython's matplotlib magic function will catch this code block and pop it inline when you 'shift-enter'."
     ]
    },
    {
     "cell_type": "code",
     "collapsed": false,
     "input": [
      "fig1 = plt.figure()\n",
      "x = np.arange(0,1.0,0.01)\n",
      "y1 = np.sin(2*np.pi*x)\n",
      "y2 = np.cos(4*np.pi*x)\n",
      "ax = fig1.add_subplot(111)\n",
      "ax.plot(x, y1, 'b--', label='sin')\n",
      "ax.plot(x, y2, 'ro', label='cos')\n",
      "ax.set_title(\"It's a Sign\")\n",
      "ax.set_xlabel('time')\n",
      "ax.set_ylabel('amplitude')"
     ],
     "language": "python",
     "metadata": {},
     "outputs": [
      {
       "metadata": {},
       "output_type": "pyout",
       "prompt_number": 3,
       "text": [
        "<matplotlib.text.Text at 0x10c4b18d0>"
       ]
      },
      {
       "metadata": {},
       "output_type": "display_data",
       "png": "[encoded data removed]",
       "text": [
        "<matplotlib.figure.Figure at 0x10c4a7610>"
       ]
      }
     ],
     "prompt_number": 3
    },
    {
     "cell_type": "markdown",
     "metadata": {},
     "source": [
      "The following line takes the matplotlib figure object, extracts the data with mplexporter, renders a new plot with PlotlyRenderer, and sends it to Plotly. The plot shows up inline because of the `notebook=True` keyword argument. This causes the `fig_to_plotly` function to call `plotly.iplot` (IPython plot) instead of the normal `plotly.plot` function. Taking that keyword argument out defaults to the normal plot function and will open a new window in your browser with the plot.\n",
      "\n",
      "Note how you can zoom, pan, autoscale, and see data points by hovering. The data you plotted is right there. If you want to modify the dataset, style, layout, or add notes, you can click the 'data and graph' link below the plot.\n",
      "\n",
      "And again, if you have a [plotly profile](https://plot.ly/~RhettAllain/ \"Wired Science Blogger\"), you can save and share your awesome sinusoids with others.\n"
     ]
    },
    {
     "cell_type": "code",
     "collapsed": false,
     "input": [
      "fig_to_plotly(fig1, username, api_key, notebook=True)"
     ],
     "language": "python",
     "metadata": {},
     "outputs": [
      {
       "html": [
        "<iframe height=\"550\" id=\"igraph\" scrolling=\"no\" seamless=\"seamless\" src=\"https://plot.ly/~IPython.Demo/1782\" width=\"100%\"></iframe>"
       ],
       "metadata": {},
       "output_type": "pyout",
       "prompt_number": 4,
       "text": [
        "<IPython.core.display.HTML at 0x10c49cf10>"
       ]
      }
     ],
     "prompt_number": 4
    },
    {
     "cell_type": "heading",
     "level": 3,
     "metadata": {},
     "source": [
      "Subplots:"
     ]
    },
    {
     "cell_type": "markdown",
     "metadata": {},
     "source": [
      "But why have one axes object when you could have five!? Gridspec is a handy way to intuitively partition figure space into nice looking subplots. Here are just some simple line plots stretching over a 3x3 grid of plotting areas."
     ]
    },
    {
     "cell_type": "code",
     "collapsed": false,
     "input": [
      "fig2 = plt.figure() # matplotlib.figure.Figure obj\n",
      "gs = gridspec.GridSpec(3, 3)\n",
      "ax1 = fig2.add_subplot(gs[0,:])\n",
      "ax1.plot([1,2,3,4,5], [10,5,10,5,10], 'r-')\n",
      "ax2 = fig2.add_subplot(gs[1,:-1])\n",
      "ax2.plot([1,2,3,4], [1,4,9,16], 'k-')\n",
      "ax3 = fig2.add_subplot(gs[1:, 2])\n",
      "ax3.plot([1,2,3,4], [1,10,100,1000], 'b-')\n",
      "ax4 = fig2.add_subplot(gs[2,0])\n",
      "ax4.plot([1,2,3,4], [0,0,1,1], 'g-')\n",
      "ax5 = fig2.add_subplot(gs[2,1])\n",
      "ax5.plot([1,2,3,4], [1,0,0,1], 'c-')\n",
      "gs.update(wspace=0.5, hspace=0.5)"
     ],
     "language": "python",
     "metadata": {},
     "outputs": [
      {
       "metadata": {},
       "output_type": "display_data",
       "png": "[encoded data removed]",
       "text": [
        "<matplotlib.figure.Figure at 0x10c624910>"
       ]
      }
     ],
     "prompt_number": 5
    },
    {
     "cell_type": "markdown",
     "metadata": {},
     "source": [
      "Again, if you're fond of matplotlib's syntax, or, you're just feeling like dipping your toes in the plotly pool for now, inserting a simpe `fig_to_plotly` call sends the above figure to Plotly and it responds by sticking back into this notebook.\n",
      "\n",
      "By default, matplotlib subplots don't have common axis elements and so the rendered plotly graphic will reflect this. However, as we've mentioned, plotly's all about sharing. You can check out the possibilities for anchoring different subplots to the same axis in the [plotly docs](https://plot.ly/api/python/docs/subplots \"<3 subplots\") if you're trying to work through the API. Alternatively, you can use ploty's GUIs to change all of the plot's attributes--including axis sharing."
     ]
    },
    {
     "cell_type": "code",
     "collapsed": false,
     "input": [
      "fig_to_plotly(fig2, username=username, api_key=api_key, notebook=True)"
     ],
     "language": "python",
     "metadata": {},
     "outputs": [
      {
       "html": [
        "<iframe height=\"550\" id=\"igraph\" scrolling=\"no\" seamless=\"seamless\" src=\"https://plot.ly/~IPython.Demo/1783\" width=\"100%\"></iframe>"
       ],
       "metadata": {},
       "output_type": "pyout",
       "prompt_number": 6,
       "text": [
        "<IPython.core.display.HTML at 0x10c769350>"
       ]
      }
     ],
     "prompt_number": 6
    },
    {
     "cell_type": "heading",
     "level": 3,
     "metadata": {},
     "source": [
      "Annotations:"
     ]
    },
    {
     "cell_type": "markdown",
     "metadata": {},
     "source": [
      "The matplotlib package supports multiple ways of getting annotations onto figures. These too get sent to plotly when you call `fig_to_plotly`. Let's start with some simple annotations that mark plot boundaries."
     ]
    },
    {
     "cell_type": "code",
     "collapsed": false,
     "input": [
      "fig3 = plt.figure()\n",
      "ax = fig3.add_subplot(111)\n",
      "ax.plot([1,2,3], 'b-')\n",
      "ax.plot([3,2,1], 'b-')\n",
      "ax.text(0.001, 0.999, 'top-left', transform=ax.transAxes, va='top', ha='left')\n",
      "ax.text(0.001, 0.001, 'bottom-left', transform=ax.transAxes, va='baseline', ha='left')\n",
      "ax.text(0.999, 0.999, 'top-right', transform=ax.transAxes, va='top', ha='right')\n",
      "ax.text(0.999, 0.001, 'bottom-right', transform=ax.transAxes, va='baseline', ha='right')"
     ],
     "language": "python",
     "metadata": {},
     "outputs": [
      {
       "metadata": {},
       "output_type": "pyout",
       "prompt_number": 7,
       "text": [
        "<matplotlib.text.Text at 0x10c791950>"
       ]
      },
      {
       "metadata": {},
       "output_type": "display_data",
       "png": "[encoded data removed]",
       "text": [
        "<matplotlib.figure.Figure at 0x10c744c10>"
       ]
      }
     ],
     "prompt_number": 7
    },
    {
     "cell_type": "markdown",
     "metadata": {},
     "source": [
      "Plotly will import these and anchor them appropriately to the plot, not to the data. You can pan and zoom in the following figure to check this. If you decide you don't want them anchored to the 'page', you can later switch them via the 'Notes' tab in Plotly."
     ]
    },
    {
     "cell_type": "code",
     "collapsed": false,
     "input": [
      "fig_to_plotly(fig3, username, api_key, notebook=True)"
     ],
     "language": "python",
     "metadata": {},
     "outputs": [
      {
       "html": [
        "<iframe height=\"550\" id=\"igraph\" scrolling=\"no\" seamless=\"seamless\" src=\"https://plot.ly/~IPython.Demo/1784\" width=\"100%\"></iframe>"
       ],
       "metadata": {},
       "output_type": "pyout",
       "prompt_number": 8,
       "text": [
        "<IPython.core.display.HTML at 0x10c735a50>"
       ]
      }
     ],
     "prompt_number": 8
    },
    {
     "cell_type": "markdown",
     "metadata": {},
     "source": [
      "Let's try a more interesting example. The following code creates a figure with a bunch of different line objects, each annotated with a text object that is anchored to data. Another annotation is anchored to the mpl axes objects so that it will remain in the top-left corner of the plot when you pan or zoom."
     ]
    },
    {
     "cell_type": "code",
     "collapsed": false,
     "input": [
      "gs = gridspec.GridSpec(2, 1)\n",
      "fig4 = plt.figure()\n",
      "ax1 = fig4.add_subplot(gs[0,0])\n",
      "x = np.arange(-3, 3, 0.01)*2*np.pi\n",
      "sin_x = np.sin(x)\n",
      "ax1.plot(x, sin_x, 'k-', label='sin(x)')\n",
      "num_lines = 20\n",
      "colors = cm.rainbow(np.linspace(0, 1, num_lines))\n",
      "for iii in range(0, num_lines):\n",
      "    y = x\n",
      "    for jjj in range(1, iii+1):\n",
      "        sign = (-1)**jjj\n",
      "        deg = 1+2*jjj\n",
      "        y = np.add(y, sign*x**(deg)/np.math.factorial(deg))\n",
      "    ct_h = int(len(x)/2)\n",
      "    while abs(y[ct_h]) < 10:\n",
      "        ct_h += 1\n",
      "    ct_l = int(len(x)/2)\n",
      "    while abs(y[ct_l]) < 10:\n",
      "        ct_l -= 1\n",
      "    x_plot = x[ct_l:ct_h+1]\n",
      "    y_plot = y[ct_l:ct_h+1]\n",
      "    ax1.plot(x_plot, y_plot, color=colors[iii], label='L{}'.format(iii))\n",
      "    ax1.text(x_plot[-15], y_plot[-15], '{}'.format(1+2*iii), ha='center', va='center')\n",
      "ax1.set_ylim(-10,10)\n",
      "ax1.set_xlabel('x')\n",
      "ax1.set_ylabel('y(x)')\n",
      "ax1.set_title('approximation to sin(x)', size=14)\n",
      "ax1.text(0.001, 0.999, 'num=deg', transform=ax1.transAxes, ha='left', va='top')\n",
      "\n",
      "ax2 = fig4.add_subplot(gs[1,0])\n",
      "x = np.arange(-5, 5, 0.01)\n",
      "ax2.plot(np.arange(0.01, 5, 0.01),\n",
      "         np.log(np.arange(0.01, 5, 0.01) + np.ones(len(np.arange(0.01, 5, 0.01)))),\n",
      "         'k-', label='ln(x + 1)')\n",
      "num_lines = 20\n",
      "colors = cm.rainbow(np.linspace(0, 1, num_lines))\n",
      "for iii in range(0, num_lines):\n",
      "    y = x\n",
      "    for jjj in range(1, iii+1):\n",
      "        sign = (-1)**jjj\n",
      "        deg = 1+jjj\n",
      "        y = np.add(y, sign*x**(deg)/deg)\n",
      "    ct_h = int(len(x)/2)\n",
      "    while abs(y[ct_h]) < 3:\n",
      "        ct_h += 1\n",
      "    ct_l = int(len(x)/2)\n",
      "    while abs(y[ct_l]) < 3:\n",
      "        ct_l -= 1\n",
      "    x_plot = x[ct_l:ct_h+1]\n",
      "    y_plot = y[ct_l:ct_h+1]\n",
      "    ax2.plot(x_plot, y_plot, color=colors[iii], label='L{}'.format(iii))\n",
      "    ax2.text(x_plot[-28], y_plot[-28], '{}'.format(1+iii), ha='center', va='center')\n",
      "ax2.set_ylim(-3,3)\n",
      "ax2.set_xlim(-2,4)\n",
      "ax2.set_xlabel('x')\n",
      "ax2.set_ylabel('y(x)')\n",
      "ax2.set_title('approximation to ln(1 + x)', size=14)\n",
      "ax2.text(0.001, 0.999, 'num=deg', transform=ax2.transAxes, ha='left', va='top')\n",
      "gs.update(wspace=0.2, hspace=0.5)"
     ],
     "language": "python",
     "metadata": {},
     "outputs": [
      {
       "metadata": {},
       "output_type": "display_data",
       "png": "[encoded data removed]",
       "text": [
        "<matplotlib.figure.Figure at 0x10c7a3a90>"
       ]
      }
     ],
     "prompt_number": 9
    },
    {
     "cell_type": "markdown",
     "metadata": {},
     "source": [
      "Okay. You or a collaborator did all this work with matplotlib, but those labels for the second plot are really not showing up well. Rather than messing with that code, you could just shoot it over to plotly, drag the annotations interactively, save the figure, share it, and get feedback. To get a feel for the flexibility, run the `fig_to_plotly` function, click the 'data and graph' link, and then click the 'save and edit' link."
     ]
    },
    {
     "cell_type": "code",
     "collapsed": false,
     "input": [
      "fig_to_plotly(fig4, username, api_key, notebook=True)"
     ],
     "language": "python",
     "metadata": {},
     "outputs": [
      {
       "html": [
        "<iframe height=\"550\" id=\"igraph\" scrolling=\"no\" seamless=\"seamless\" src=\"https://plot.ly/~IPython.Demo/1785\" width=\"100%\"></iframe>"
       ],
       "metadata": {},
       "output_type": "pyout",
       "prompt_number": 10,
       "text": [
        "<IPython.core.display.HTML at 0x10cdb5810>"
       ]
      }
     ],
     "prompt_number": 10
    },
    {
     "cell_type": "heading",
     "level": 3,
     "metadata": {},
     "source": [
      "Resize:"
     ]
    },
    {
     "cell_type": "markdown",
     "metadata": {},
     "source": [
      "It is often the case that users do not specify sizing for mpl figures. For this reason, it doesn't make sense to force plotly to mimic the exact mpl sizing. Instead, we can call the PlotlyRenderer's `resize` method to throw away possibly restricting specifications. While a PlotlyRenderer instance can call this method directly, we can also use the `fig_to_plotly` keyword-argument pair, `resize=True`. By default, this is set to `False`. Let's check out the differences, shall we? \n",
      "\n",
      "Below we create a simple mpl figure and, again, because of the `%matplotlib inline` call at the beginning of this notebook, the figure is placced directly below."
     ]
    },
    {
     "cell_type": "code",
     "collapsed": false,
     "input": [
      "fig5 = plt.figure()\n",
      "ax = fig5.add_subplot(111)\n",
      "ax.plot([1,2,3])"
     ],
     "language": "python",
     "metadata": {},
     "outputs": [
      {
       "metadata": {},
       "output_type": "pyout",
       "prompt_number": 11,
       "text": [
        "[<matplotlib.lines.Line2D at 0x10cde0390>]"
       ]
      },
      {
       "metadata": {},
       "output_type": "display_data",
       "png": "[encoded data removed]",
       "text": [
        "<matplotlib.figure.Figure at 0x10cdbce90>"
       ]
      }
     ],
     "prompt_number": 11
    },
    {
     "cell_type": "markdown",
     "metadata": {},
     "source": [
      "Now, let's remind ourselves of the standard `fig_to_plotly` result."
     ]
    },
    {
     "cell_type": "code",
     "collapsed": false,
     "input": [
      "fig_to_plotly(fig5, username, api_key, notebook=True)"
     ],
     "language": "python",
     "metadata": {},
     "outputs": [
      {
       "html": [
        "<iframe height=\"550\" id=\"igraph\" scrolling=\"no\" seamless=\"seamless\" src=\"https://plot.ly/~IPython.Demo/1786\" width=\"100%\"></iframe>"
       ],
       "metadata": {},
       "output_type": "pyout",
       "prompt_number": 12,
       "text": [
        "<IPython.core.display.HTML at 0x10cdc1990>"
       ]
      }
     ],
     "prompt_number": 12
    },
    {
     "cell_type": "markdown",
     "metadata": {},
     "source": [
      "Next, we'll run the same figure, but with `resize=True`. Check out that full-width action. Stick *that* in your profile and share it."
     ]
    },
    {
     "cell_type": "code",
     "collapsed": false,
     "input": [
      "fig_to_plotly(fig5, username, api_key, notebook=True, resize=True)"
     ],
     "language": "python",
     "metadata": {},
     "outputs": [
      {
       "html": [
        "<iframe height=\"550\" id=\"igraph\" scrolling=\"no\" seamless=\"seamless\" src=\"https://plot.ly/~IPython.Demo/1787\" width=\"100%\"></iframe>"
       ],
       "metadata": {},
       "output_type": "pyout",
       "prompt_number": 13,
       "text": [
        "<IPython.core.display.HTML at 0x10cdc13d0>"
       ]
      }
     ],
     "prompt_number": 13
    },
    {
     "cell_type": "raw",
     "metadata": {},
     "source": [
      "For a prettier picture, we can do the same with fig4 from above..."
     ]
    },
    {
     "cell_type": "code",
     "collapsed": false,
     "input": [
      "fig_to_plotly(fig4, username, api_key, notebook=True, resize=True)"
     ],
     "language": "python",
     "metadata": {},
     "outputs": [
      {
       "html": [
        "<iframe height=\"550\" id=\"igraph\" scrolling=\"no\" seamless=\"seamless\" src=\"https://plot.ly/~IPython.Demo/1788\" width=\"100%\"></iframe>"
       ],
       "metadata": {},
       "output_type": "pyout",
       "prompt_number": 14,
       "text": [
        "<IPython.core.display.HTML at 0x10cdbcf10>"
       ]
      }
     ],
     "prompt_number": 14
    },
    {
     "cell_type": "heading",
     "level": 3,
     "metadata": {},
     "source": [
      "Strip Style:"
     ]
    },
    {
     "cell_type": "markdown",
     "metadata": {},
     "source": [
      "Continuing to revert mpl specifications, we can aslo strip resulting JSON structures of their style. This uses the PlotlyRenderer's `strip_style` method. Just like `resize`, we can ensure that the `strip_style` method is used by passing a `strip_style=True` keyword-argument pair to `fig_to_plotly`. \n",
      "\n",
      "Actions speak louder than words."
     ]
    },
    {
     "cell_type": "code",
     "collapsed": false,
     "input": [
      "fig6 = plt.figure()\n",
      "ax = fig6.add_subplot(111)\n",
      "ax.plot([0, 1, 2, 3], [10, 5, 9, 5], 'o')\n",
      "ax.plot([5, 9, 5, 7, 4])"
     ],
     "language": "python",
     "metadata": {},
     "outputs": [
      {
       "metadata": {},
       "output_type": "pyout",
       "prompt_number": 15,
       "text": [
        "[<matplotlib.lines.Line2D at 0x10cf107d0>]"
       ]
      },
      {
       "metadata": {},
       "output_type": "display_data",
       "png": "[encoded data removed]",
       "text": [
        "<matplotlib.figure.Figure at 0x10cde5110>"
       ]
      }
     ],
     "prompt_number": 15
    },
    {
     "cell_type": "code",
     "collapsed": false,
     "input": [
      "fig_to_plotly(fig6, username, api_key, notebook=True, resize=True, strip_style=True)"
     ],
     "language": "python",
     "metadata": {},
     "outputs": [
      {
       "html": [
        "<iframe height=\"550\" id=\"igraph\" scrolling=\"no\" seamless=\"seamless\" src=\"https://plot.ly/~IPython.Demo/1789\" width=\"100%\"></iframe>"
       ],
       "metadata": {},
       "output_type": "pyout",
       "prompt_number": 16,
       "text": [
        "<IPython.core.display.HTML at 0x10c738bd0>"
       ]
      }
     ],
     "prompt_number": 16
    },
    {
     "cell_type": "heading",
     "level": 3,
     "metadata": {},
     "source": [
      "Bars:"
     ]
    },
    {
     "cell_type": "markdown",
     "metadata": {},
     "source": [
      "We like bar charts and histograms just as much as you do. Therefore, we've grabbed those for you too! Bars from bar charts are stored as 'patches' which are defined by paths. They are not, however, stored as a 'path_collection' since each bar is differently sized (or it should be unless you're making pretty boring bar charts). Plotly uses some educated guesses to decide whether rectangle patches that end up in each axes object are intended to be bar charts. When life gives you lemons, make a bar chart."
     ]
    },
    {
     "cell_type": "code",
     "collapsed": false,
     "input": [
      "fig7 = plt.figure()\n",
      "ax = fig7.add_subplot(111)\n",
      "left = [1, 2, 3, 4, 5, 6, 7]\n",
      "height = [5, 6, 1, 4, 3, 10, 15]\n",
      "width = 1\n",
      "ax.bar(left, height, width=width, color='y')\n",
      "ax.set_xlabel('business day at the stand')\n",
      "ax.set_ylabel('drinks sold')\n",
      "ax.set_title('life gave me lemons')"
     ],
     "language": "python",
     "metadata": {},
     "outputs": [
      {
       "metadata": {},
       "output_type": "pyout",
       "prompt_number": 17,
       "text": [
        "<matplotlib.text.Text at 0x10cf362d0>"
       ]
      },
      {
       "metadata": {},
       "output_type": "display_data",
       "png": "[encoded data removed]",
       "text": [
        "<matplotlib.figure.Figure at 0x10cdec350>"
       ]
      }
     ],
     "prompt_number": 17
    },
    {
     "cell_type": "code",
     "collapsed": false,
     "input": [
      "fig_to_plotly(fig7, username, api_key, notebook=True, resize=True)"
     ],
     "language": "python",
     "metadata": {},
     "outputs": [
      {
       "html": [
        "<iframe height=\"550\" id=\"igraph\" scrolling=\"no\" seamless=\"seamless\" src=\"https://plot.ly/~IPython.Demo/1790\" width=\"100%\"></iframe>"
       ],
       "metadata": {},
       "output_type": "pyout",
       "prompt_number": 18,
       "text": [
        "<IPython.core.display.HTML at 0x10b3c2310>"
       ]
      }
     ],
     "prompt_number": 18
    },
    {
     "cell_type": "markdown",
     "metadata": {},
     "source": [
      "Using mpl, we can also get horizontal bars. Let's look at an example of making some horizontal histograms."
     ]
    },
    {
     "cell_type": "code",
     "collapsed": false,
     "input": [
      "fig8 = plt.figure()\n",
      "y = np.random.randn(10000) + 3\n",
      "x = np.random.randn(10000) - 3\n",
      "sum = x + y\n",
      "gs = gridspec.GridSpec(1,4)\n",
      "ax1 = fig8.add_subplot(gs[0,:2])\n",
      "ax1.set_xlabel('sum')\n",
      "ax2 = fig8.add_subplot(gs[0,2])\n",
      "ax2.set_xlabel('x')\n",
      "ax2.set_ylim(-6, 6)\n",
      "ax3 = fig8.add_subplot(gs[0,3])\n",
      "ax3.set_xlabel('y')\n",
      "ax3.set_ylim(-6, 6)\n",
      "gs.update(wspace=0.5)\n",
      "ax1.hist(sum, bins=100, color = 'green')\n",
      "histx = ax2.hist(x, bins=100, orientation='horizontal', color = 'blue')\n",
      "histy = ax3.hist(y, bins=100, orientation='horizontal', color = 'yellow')"
     ],
     "language": "python",
     "metadata": {},
     "outputs": [
      {
       "metadata": {},
       "output_type": "display_data",
       "png": "[encoded data removed]",
       "text": [
        "<matplotlib.figure.Figure at 0x10cf46e90>"
       ]
      }
     ],
     "prompt_number": 19
    },
    {
     "cell_type": "code",
     "collapsed": false,
     "input": [
      "fig_to_plotly(fig8, username, api_key, notebook=True, resize=True)"
     ],
     "language": "python",
     "metadata": {},
     "outputs": [
      {
       "html": [
        "<iframe height=\"550\" id=\"igraph\" scrolling=\"no\" seamless=\"seamless\" src=\"https://plot.ly/~IPython.Demo/1791\" width=\"100%\"></iframe>"
       ],
       "metadata": {},
       "output_type": "pyout",
       "prompt_number": 20,
       "text": [
        "<IPython.core.display.HTML at 0x10d806c10>"
       ]
      }
     ],
     "prompt_number": 20
    },
    {
     "cell_type": "heading",
     "level": 3,
     "metadata": {},
     "source": [
      "The Nitty Gritty:"
     ]
    },
    {
     "cell_type": "markdown",
     "metadata": {},
     "source": [
      "Out of curiosity or for the sake of troubleshooting, you might find yourself needing to inspect the dictionaries and possibly even the mplexporter. The following shows how you go about running the PlotlyRenderer and making a manual call to plotly."
     ]
    },
    {
     "cell_type": "code",
     "collapsed": false,
     "input": [
      "fig9 = plt.figure()\n",
      "ax = fig9.add_subplot(111)\n",
      "ax.plot([10,20,30],[100,200,300], 'bo')\n",
      "ax.set_xlim(5, 35)\n",
      "ax.set_ylim(90, 310)"
     ],
     "language": "python",
     "metadata": {},
     "outputs": [
      {
       "metadata": {},
       "output_type": "pyout",
       "prompt_number": 21,
       "text": [
        "(90, 310)"
       ]
      },
      {
       "metadata": {},
       "output_type": "display_data",
       "png": "[encoded data removed]",
       "text": [
        "<matplotlib.figure.Figure at 0x10d851590>"
       ]
      }
     ],
     "prompt_number": 21
    },
    {
     "cell_type": "markdown",
     "metadata": {},
     "source": [
      "First, we will need access to the Exporter and PlotlyRenderer classes, so we import them! The Exporter crawls through the matplotlib figure, judiciously grabs pertinent information, and invokes the renderer with which it was instantiated. The PlotlyRenderer accepts calls from the Exporter and creates an appropriate JSON dictionary for use with plotly."
     ]
    },
    {
     "cell_type": "code",
     "collapsed": false,
     "input": [
      "from matplotlylib import Exporter, PlotlyRenderer\n",
      "renderer = PlotlyRenderer()\n",
      "exporter = Exporter(renderer)\n",
      "exporter.run(fig9)"
     ],
     "language": "python",
     "metadata": {},
     "outputs": [],
     "prompt_number": 22
    },
    {
     "cell_type": "markdown",
     "metadata": {},
     "source": [
      "We can look at the resulting list of data and layout dictionaries by looking at the renderer's data and layout attributes."
     ]
    },
    {
     "cell_type": "code",
     "collapsed": false,
     "input": [
      "renderer.data"
     ],
     "language": "python",
     "metadata": {},
     "outputs": [
      {
       "metadata": {},
       "output_type": "pyout",
       "prompt_number": 23,
       "text": [
        "[{'marker': {'color': '#0000FF',\n",
        "   'line': {'color': '#000000', 'width': 0.5},\n",
        "   'opacity': 1,\n",
        "   'symbol': 'dot'},\n",
        "  'mode': 'markers',\n",
        "  'x': [10.0, 20.0, 30.0],\n",
        "  'y': [100.0, 200.0, 300.0]}]"
       ]
      }
     ],
     "prompt_number": 23
    },
    {
     "cell_type": "code",
     "collapsed": false,
     "input": [
      "renderer.layout"
     ],
     "language": "python",
     "metadata": {},
     "outputs": [
      {
       "metadata": {},
       "output_type": "pyout",
       "prompt_number": 24,
       "text": [
        "{'autosize': False,\n",
        " 'height': 320,\n",
        " 'margin': {'b': 40, 'l': 60, 'pad': 0, 'r': 47, 't': 31},\n",
        " 'showlegend': False,\n",
        " 'width': 480,\n",
        " 'xaxis': {'anchor': 'y',\n",
        "  'domain': [0.0, 1.0],\n",
        "  'range': (5.0, 35.0),\n",
        "  'showgrid': False},\n",
        " 'yaxis': {'anchor': 'x',\n",
        "  'domain': [0.0, 1.0],\n",
        "  'range': (90.0, 310.0),\n",
        "  'showgrid': False}}"
       ]
      }
     ],
     "prompt_number": 24
    },
    {
     "cell_type": "markdown",
     "metadata": {},
     "source": [
      "Finally, to create the figure in plotly, we can call `plotly.iplot`. Again, we'll need a couple more tools from plotly, so we'll import them. We instantiate our plotly class and call it `py` by entereing our username and api_key. Then we use plotly's iplot method to drop our plot back into this IPython notebook. For more information about plotly and IPython, Plotly's [IPython docs](https://plot.ly/api/ipython) have you covered."
     ]
    },
    {
     "cell_type": "code",
     "collapsed": false,
     "input": [
      "import plotly\n",
      "py = plotly.plotly(username, api_key)\n",
      "py.iplot(renderer.data, layout=renderer.layout)"
     ],
     "language": "python",
     "metadata": {},
     "outputs": [
      {
       "html": [
        "<iframe height=\"550\" id=\"igraph\" scrolling=\"no\" seamless=\"seamless\" src=\"https://plot.ly/~IPython.Demo/1792\" width=\"100%\"></iframe>"
       ],
       "metadata": {},
       "output_type": "pyout",
       "prompt_number": 25,
       "text": [
        "<IPython.core.display.HTML at 0x10cf9ba10>"
       ]
      }
     ],
     "prompt_number": 25
    },
    {
     "cell_type": "markdown",
     "metadata": {},
     "source": [
      "Additionally, you can use this opportunity to add to or modify the data and layout dictionaries. Just as an example, we can change the plot and paper background colors. You might find this procedure helpful if you've snooped around the JSON drop-down in plotly on some of your favorite plots from the plotly [gallery](https://plot.ly/api/python/gallery). If you see a feature you want, just add it!"
     ]
    },
    {
     "cell_type": "code",
     "collapsed": false,
     "input": [
      "renderer.resize()\n",
      "renderer.layout['plot_bgcolor'] = '#80adb0'\n",
      "renderer.layout['paper_bgcolor'] = '#fefafd'\n",
      "renderer.layout['showgridlines'] = False\n",
      "py.iplot(renderer.data, layout=renderer.layout)"
     ],
     "language": "python",
     "metadata": {},
     "outputs": [
      {
       "html": [
        "<iframe height=\"550\" id=\"igraph\" scrolling=\"no\" seamless=\"seamless\" src=\"https://plot.ly/~IPython.Demo/1793\" width=\"100%\"></iframe>"
       ],
       "metadata": {},
       "output_type": "pyout",
       "prompt_number": 26,
       "text": [
        "<IPython.core.display.HTML at 0x10d0ee210>"
       ]
      }
     ],
     "prompt_number": 26
    },
    {
     "cell_type": "markdown",
     "metadata": {},
     "source": [
      "Follow and/or contribute to the matplotlylib progress [here](https://github.com/mpld3/matplotlylib).\n",
      "\n",
      "Analyze and visualize data, together, with plotly [here](https://plot.ly/)."
     ]
    }
   ],
   "metadata": {}
  }
 ]
}